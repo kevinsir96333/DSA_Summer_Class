{
  "cells": [
    {
      "cell_type": "code",
      "execution_count": null,
      "metadata": {
        "id": "ye1RQkQlulaA"
      },
      "outputs": [],
      "source": [
        "class Node:\n",
        "  def __init__(self, data):\n",
        "    self.data = data\n",
        "    self.children = list()\n",
        "\n",
        "  def __str__(self):\n",
        "    return self.data"
      ]
    },
    {
      "cell_type": "code",
      "execution_count": null,
      "metadata": {
        "id": "IAIEWAmquyX4"
      },
      "outputs": [],
      "source": [
        "class Tree:\n",
        "  def __init__(self):\n",
        "    self.root = None\n",
        "\n",
        "  def __str__(self):\n",
        "    level = 0\n",
        "    msg = Tree.concatenate_node_info(self.root, level)\n",
        "    return msg\n",
        "\n",
        "  @staticmethod\n",
        "  def concatenate_node_info(node, level):\n",
        "    msg = ''\n",
        "\n",
        "    for i in range(level):\n",
        "      msg += '|    '\n",
        "    msg += '+--- ' + node.data + '\\n'\n",
        "\n",
        "    for child in node.children:\n",
        "      msg += Tree.concatenate_node_info(child, level+1)\n",
        "    return msg"
      ]
    },
    {
      "cell_type": "code",
      "execution_count": null,
      "metadata": {
        "id": "pbjsMaQaxrCv"
      },
      "outputs": [],
      "source": [
        "data_list = ['A', 'B', 'C', 'D', 'E', 'F', 'G', 'H',\n",
        "             'I', 'J', 'K', 'L', 'M', 'N', 'O', 'P']\n",
        "\n",
        "nodes = list()\n",
        "for data in data_list:\n",
        "  nodes.append(Node(data))\n",
        "\n",
        "tree = Tree()\n",
        "tree.root = nodes[0]\n",
        "nodes[0].children = nodes[1:4]\n",
        "nodes[1].children = nodes[4:7]\n",
        "nodes[2].children = nodes[7:9]\n",
        "nodes[3].children = nodes[9:10]\n",
        "nodes[4].children = nodes[10:12]\n",
        "nodes[6].children = nodes[12:13]\n",
        "nodes[7].children = nodes[13:14]\n",
        "nodes[9].children = nodes[14:16]\n",
        "print(tree)"
      ]
    },
    {
      "cell_type": "code",
      "execution_count": null,
      "metadata": {
        "id": "IwsLJbKFjkFx"
      },
      "outputs": [],
      "source": [
        "array = [ ]\n",
        "\n",
        "for i in range(150):\n",
        "  array.append(i)\n",
        "  print('Items:', array)\n",
        "  print('Num. of items:', len(array))\n",
        "  print('Size:', array.__sizeof__())\n",
        "  print('-----------------------------')"
      ]
    }
  ],
  "metadata": {
    "colab": {
      "provenance": []
    },
    "kernelspec": {
      "display_name": "Python 3",
      "name": "python3"
    },
    "language_info": {
      "name": "python"
    }
  },
  "nbformat": 4,
  "nbformat_minor": 0
}
